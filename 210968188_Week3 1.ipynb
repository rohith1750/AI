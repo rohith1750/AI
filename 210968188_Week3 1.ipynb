{
 "cells": [
  {
   "cell_type": "markdown",
   "metadata": {
    "id": "K8rqyEwrRdoW"
   },
   "source": [
    "# **Saketh Bobbala**\n",
    "## **Week 3**\n",
    "## **210968188**"
   ]
  },
  {
   "cell_type": "code",
   "execution_count": 5,
   "metadata": {
    "colab": {
     "base_uri": "https://localhost:8080/"
    },
    "id": "2P_xSK6DM5p7",
    "outputId": "31bf3d6f-a526-444f-f0cd-677d3b11007e"
   },
   "outputs": [
    {
     "name": "stdout",
     "output_type": "stream",
     "text": [
      "Requirement already satisfied: easyAI in c:\\users\\rohit\\anaconda3\\lib\\site-packages (2.0.12)\n",
      "Requirement already satisfied: numpy in c:\\users\\rohit\\anaconda3\\lib\\site-packages (from easyAI) (1.24.3)\n",
      "Note: you may need to restart the kernel to use updated packages.\n"
     ]
    }
   ],
   "source": [
    "pip install easyAI"
   ]
  },
  {
   "cell_type": "code",
   "execution_count": 6,
   "metadata": {
    "id": "HTWfeKqTMSqs"
   },
   "outputs": [],
   "source": [
    "import easyAI\n",
    "from easyAI import TwoPlayerGame\n",
    "from easyAI.Player import Human_Player\n",
    "from easyAI import AI_Player, Negamax\n",
    "from easyAI import solve_with_iterative_deepening, solve_with_depth_first_search\n",
    "import time"
   ]
  },
  {
   "cell_type": "code",
   "execution_count": 7,
   "metadata": {
    "id": "ZYml7UMwM0ZI"
   },
   "outputs": [],
   "source": [
    "from easyAI import TwoPlayerGame, Human_Player, AI_Player, Negamax\n",
    "\n",
    "class TicTacToe(TwoPlayerGame):\n",
    "    \"\"\" The board positions are numbered as follows:\n",
    "            1 2 3\n",
    "            4 5 6\n",
    "            7 8 9\n",
    "    \"\"\"\n",
    "    def __init__(self, players):\n",
    "        self.players = players\n",
    "        self.board = [0 for _ in range(9)]\n",
    "        self.nplayer = 1\n",
    "        self.current_player = 1\n",
    "\n",
    "    def possible_moves(self):\n",
    "        return [i + 1 for i, e in enumerate(self.board) if e == 0]\n",
    "\n",
    "    def make_move(self, move):\n",
    "        self.board[int(move) - 1] = self.nplayer\n",
    "        self.nplayer = 3 - self.nplayer\n",
    "\n",
    "    def lose(self):\n",
    "        \"\"\" Has the opponent \"three in line ?\" \"\"\"\n",
    "        return any([all([(self.board[c - 1] == self.current_player)\n",
    "                         for c in line])\n",
    "                    for line in [[1, 2, 3], [4, 5, 6], [7, 8, 9],  # horiz.\n",
    "                                 [1, 4, 7], [2, 5, 8], [3, 6, 9],  # vertical\n",
    "                                 [1, 5, 9], [3, 5, 7]]])  # diagonal\n",
    "\n",
    "    def is_over(self):\n",
    "        return (self.possible_moves() == []) or self.lose()\n",
    "\n",
    "    def show(self):\n",
    "        print('\\n' + '\\n'.join([\n",
    "            ' '.join([['.', 'O', 'X'][self.board[3 * j + i]]\n",
    "                       for i in range(3)])\n",
    "            for j in range(3)]))\n",
    "\n",
    "    def display_winner(self):\n",
    "        if self.lose():\n",
    "            print(f\"The winner is Player {self.current_player}!\")\n",
    "        else:\n",
    "            print(\"It's a tie!\")\n",
    "\n",
    "    def scoring(self):\n",
    "        return -100 if self.lose() else 0\n",
    "\n",
    "\n"
   ]
  },
  {
   "cell_type": "code",
   "execution_count": 8,
   "metadata": {
    "id": "tdkXSiGSNGnt"
   },
   "outputs": [],
   "source": [
    "def main(algo):\n",
    "    ai = Negamax(9)\n",
    "    if algo == 'id':\n",
    "        result = solve_with_iterative_deepening(game=TicTacToe(players=[AI_Player(ai), Human_Player()]), ai_depths=range(2, 10), win_score=100)\n",
    "    elif algo == 'dfs':\n",
    "        result = solve_with_depth_first_search(game=TicTacToe(players=[AI_Player(ai), Human_Player()]), win_score=100)\n",
    "    else:\n",
    "        print(\"Invalid algorithm.\")\n",
    "    return result"
   ]
  },
  {
   "cell_type": "code",
   "execution_count": null,
   "metadata": {
    "colab": {
     "base_uri": "https://localhost:8080/"
    },
    "id": "wHUo7H90NdOC",
    "outputId": "2d909953-c2db-4bf0-a734-c5e16022deac"
   },
   "outputs": [
    {
     "name": "stdout",
     "output_type": "stream",
     "text": [
      "\n",
      ". . .\n",
      ". . .\n",
      ". . .\n"
     ]
    }
   ],
   "source": [
    "ai_algo = Negamax(9)\n",
    "game = TicTacToe([Human_Player(), AI_Player(ai_algo)])\n",
    "game.play()\n",
    "game.display_winner()"
   ]
  },
  {
   "cell_type": "markdown",
   "metadata": {
    "id": "JgC6KxrtRVDg"
   },
   "source": [
    "**Iterative Deepening**"
   ]
  },
  {
   "cell_type": "code",
   "execution_count": 18,
   "metadata": {
    "colab": {
     "base_uri": "https://localhost:8080/"
    },
    "id": "2fpkJlGwNJT_",
    "outputId": "d042dba6-c5af-449c-f388-36a1f1cb4838"
   },
   "outputs": [
    {
     "name": "stdout",
     "output_type": "stream",
     "text": [
      "d:2, a:0, m:1\n",
      "d:3, a:0, m:1\n",
      "d:4, a:0, m:1\n",
      "d:5, a:0, m:1\n",
      "d:6, a:0, m:1\n",
      "d:7, a:0, m:1\n",
      "d:8, a:0, m:1\n",
      "d:9, a:0, m:1\n",
      "Result:  (0, 9, 1)\n",
      "Time Taken: 1.48s\n"
     ]
    }
   ],
   "source": [
    "start = time.time()\n",
    "idres = main('id')\n",
    "end = time.time()\n",
    "print('Result: ', idres)\n",
    "print(str.format('Time Taken: {:.2f}s', end-start))"
   ]
  },
  {
   "cell_type": "markdown",
   "metadata": {
    "id": "GFXekXwVRK33"
   },
   "source": [
    "**DFS**"
   ]
  },
  {
   "cell_type": "code",
   "execution_count": 5,
   "metadata": {
    "colab": {
     "base_uri": "https://localhost:8080/"
    },
    "id": "9EA1Ns_JNOQf",
    "outputId": "00463cdd-32ca-422d-ad68-ccad7d8a1567"
   },
   "outputs": [
    {
     "ename": "NameError",
     "evalue": "name 'time' is not defined",
     "output_type": "error",
     "traceback": [
      "\u001b[1;31m---------------------------------------------------------------------------\u001b[0m",
      "\u001b[1;31mNameError\u001b[0m                                 Traceback (most recent call last)",
      "Input \u001b[1;32mIn [5]\u001b[0m, in \u001b[0;36m<cell line: 1>\u001b[1;34m()\u001b[0m\n\u001b[1;32m----> 1\u001b[0m start \u001b[38;5;241m=\u001b[39m \u001b[43mtime\u001b[49m\u001b[38;5;241m.\u001b[39mtime()\n\u001b[0;32m      2\u001b[0m dfsres \u001b[38;5;241m=\u001b[39m main(\u001b[38;5;124m'\u001b[39m\u001b[38;5;124mdfs\u001b[39m\u001b[38;5;124m'\u001b[39m)\n\u001b[0;32m      3\u001b[0m end \u001b[38;5;241m=\u001b[39m time\u001b[38;5;241m.\u001b[39mtime()\n",
      "\u001b[1;31mNameError\u001b[0m: name 'time' is not defined"
     ]
    }
   ],
   "source": [
    "start = time.time()\n",
    "dfsres = main('dfs')\n",
    "end = time.time()\n",
    "print('Result: ', dfsres)\n",
    "print(str.format('Time Taken: {:.2f}s', end-start))"
   ]
  },
  {
   "cell_type": "markdown",
   "metadata": {
    "id": "25_9z2WWRDfo"
   },
   "source": [
    "**Iterative Deepening works much better than Depth First Search.**"
   ]
  },
  {
   "cell_type": "code",
   "execution_count": 19,
   "metadata": {
    "id": "I0uvputlRTEs"
   },
   "outputs": [],
   "source": [
    "from easyAI import TwoPlayerGame, Human_Player, AI_Player, Negamax\n",
    "\n",
    "# directions in which a knight can move\n",
    "DIRECTIONS = list(map(np.array, [[1, 2], [-1, 2], [1, -2], [-1, -2],\n",
    "                            [2, 1], [2, -1], [-2, 1], [-2, -1]]))\n",
    "\n",
    "# functions to convert \"D8\" into (3,7) and back...\n",
    "pos2string = lambda ab: \"ABCDEFGH\"[ab[0]] + str(ab[1] + 1)\n",
    "string2pos = lambda s: np.array([\"ABCDEFGH\".index(s[0]), int(s[1])-1])\n",
    "\n",
    "\n",
    "class Knights(TwoPlayerGame):\n",
    "    \"\"\"\n",
    "    Each player has a chess knight (that moves in \"L\") on a chessboard.\n",
    "    Each turn the player moves the knight to any tile that hasn't been\n",
    "    occupied by a knight before. The first player that cannot move loses.\n",
    "    \"\"\"\n",
    "\n",
    "    def __init__(self, players, board_size = (8, 8)):\n",
    "        self.players = players\n",
    "        self.board_size = board_size\n",
    "        self.board = np.zeros(board_size, dtype = int)\n",
    "        self.board[0, 0] = 1\n",
    "        self.board[board_size[0] - 1, board_size[1] - 1] = 2\n",
    "        players[0].pos = np.array([0, 0])\n",
    "        players[1].pos = np.array([board_size[0] - 1, board_size[1]-1])\n",
    "        self.nplayer = 1 # player 1 starts.\n",
    "\n",
    "    def possible_moves(self):\n",
    "        endings = [self.player.pos + d for d in DIRECTIONS]\n",
    "        return [pos2string(e) for e in endings # all positions\n",
    "                if (e[0] >= 0) and (e[1] >= 0) and\n",
    "                   (e[0] < self.board_size[0]) and\n",
    "                   (e[1] < self.board_size[1]) and # inside the board\n",
    "                   self.board[e[0], e[1]] == 0] # and not blocked\n",
    "\n",
    "    def make_move(self, pos):\n",
    "        pi, pj = self.player.pos\n",
    "        self.board[pi, pj] = 3 # 3 means blocked\n",
    "        self.player.pos = string2pos(pos)\n",
    "        pi, pj = self.player.pos\n",
    "        self.board[pi, pj] = self.nplayer # place player on board\n",
    "\n",
    "    def ttentry(self):\n",
    "        e = [tuple(row) for row in self.board]\n",
    "        e.append(pos2string(self.players[0].pos))\n",
    "        e.append(pos2string(self.players[1].pos))\n",
    "        return tuple(e)\n",
    "\n",
    "    def ttrestore(self, entry):\n",
    "        for x, row in enumerate(entry[:self.board_size[0]]):\n",
    "            for y, n in enumerate(row):\n",
    "                self.board[x, y] = n\n",
    "        self.players[0].pos = string2pos(entry[-2])\n",
    "        self.players[1].pos = string2pos(entry[-1])\n",
    "\n",
    "    def show(self):\n",
    "        print('\\n' + '\\n'.join(['  1 2 3 4 5 6 7 8'] +\n",
    "              ['ABCDEFGH'[k] + \n",
    "               ' ' + ' '.join([['.', '1', '2', 'X'][self.board[k, i]]\n",
    "               for i in range(self.board_size[0])])\n",
    "               for k in range(self.board_size[1])] + ['']))\n",
    "\n",
    "    def lose(self):\n",
    "        return self.possible_moves() == []\n",
    "\n",
    "    def scoring(self):\n",
    "        return -100 if (self.possible_moves() == []) else 0\n",
    "\n",
    "    def is_over(self):\n",
    "        return self.lose()\n",
    "    def play(self):\n",
    "        while not self.is_over():\n",
    "            self.show()\n",
    "            move = self.players[self.nplayer - 1].ask_move()\n",
    "            self.make_move(move)\n",
    "            self.nplayer = 3 - self.nplayer\n"
   ]
  },
  {
   "cell_type": "code",
   "execution_count": 20,
   "metadata": {},
   "outputs": [
    {
     "ename": "AttributeError",
     "evalue": "'Knights' object has no attribute 'current_player'",
     "output_type": "error",
     "traceback": [
      "\u001b[1;31m---------------------------------------------------------------------------\u001b[0m",
      "\u001b[1;31mAttributeError\u001b[0m                            Traceback (most recent call last)",
      "Input \u001b[1;32mIn [20]\u001b[0m, in \u001b[0;36m<cell line: 3>\u001b[1;34m()\u001b[0m\n\u001b[0;32m      1\u001b[0m ai_algo \u001b[38;5;241m=\u001b[39m Negamax(\u001b[38;5;241m11\u001b[39m)\n\u001b[0;32m      2\u001b[0m game \u001b[38;5;241m=\u001b[39m Knights([AI_Player(ai_algo), AI_Player(ai_algo)], (\u001b[38;5;241m5\u001b[39m, \u001b[38;5;241m5\u001b[39m))\n\u001b[1;32m----> 3\u001b[0m \u001b[43mgame\u001b[49m\u001b[38;5;241;43m.\u001b[39;49m\u001b[43mplay\u001b[49m\u001b[43m(\u001b[49m\u001b[43m)\u001b[49m\n\u001b[0;32m      4\u001b[0m \u001b[38;5;28mprint\u001b[39m(\u001b[38;5;124m\"\u001b[39m\u001b[38;5;124mplayer \u001b[39m\u001b[38;5;132;01m%d\u001b[39;00m\u001b[38;5;124m loses\u001b[39m\u001b[38;5;124m\"\u001b[39m \u001b[38;5;241m%\u001b[39m (game\u001b[38;5;241m.\u001b[39mnplayer))\n",
      "Input \u001b[1;32mIn [19]\u001b[0m, in \u001b[0;36mKnights.play\u001b[1;34m(self)\u001b[0m\n\u001b[0;32m     72\u001b[0m \u001b[38;5;28;01mdef\u001b[39;00m \u001b[38;5;21mplay\u001b[39m(\u001b[38;5;28mself\u001b[39m):\n\u001b[1;32m---> 73\u001b[0m     \u001b[38;5;28;01mwhile\u001b[39;00m \u001b[38;5;129;01mnot\u001b[39;00m \u001b[38;5;28;43mself\u001b[39;49m\u001b[38;5;241;43m.\u001b[39;49m\u001b[43mis_over\u001b[49m\u001b[43m(\u001b[49m\u001b[43m)\u001b[49m:\n\u001b[0;32m     74\u001b[0m         \u001b[38;5;28mself\u001b[39m\u001b[38;5;241m.\u001b[39mshow()\n\u001b[0;32m     75\u001b[0m         move \u001b[38;5;241m=\u001b[39m \u001b[38;5;28mself\u001b[39m\u001b[38;5;241m.\u001b[39mplayers[\u001b[38;5;28mself\u001b[39m\u001b[38;5;241m.\u001b[39mnplayer \u001b[38;5;241m-\u001b[39m \u001b[38;5;241m1\u001b[39m]\u001b[38;5;241m.\u001b[39mask_move()\n",
      "Input \u001b[1;32mIn [19]\u001b[0m, in \u001b[0;36mKnights.is_over\u001b[1;34m(self)\u001b[0m\n\u001b[0;32m     70\u001b[0m \u001b[38;5;28;01mdef\u001b[39;00m \u001b[38;5;21mis_over\u001b[39m(\u001b[38;5;28mself\u001b[39m):\n\u001b[1;32m---> 71\u001b[0m     \u001b[38;5;28;01mreturn\u001b[39;00m \u001b[38;5;28;43mself\u001b[39;49m\u001b[38;5;241;43m.\u001b[39;49m\u001b[43mlose\u001b[49m\u001b[43m(\u001b[49m\u001b[43m)\u001b[49m\n",
      "Input \u001b[1;32mIn [19]\u001b[0m, in \u001b[0;36mKnights.lose\u001b[1;34m(self)\u001b[0m\n\u001b[0;32m     64\u001b[0m \u001b[38;5;28;01mdef\u001b[39;00m \u001b[38;5;21mlose\u001b[39m(\u001b[38;5;28mself\u001b[39m):\n\u001b[1;32m---> 65\u001b[0m     \u001b[38;5;28;01mreturn\u001b[39;00m \u001b[38;5;28;43mself\u001b[39;49m\u001b[38;5;241;43m.\u001b[39;49m\u001b[43mpossible_moves\u001b[49m\u001b[43m(\u001b[49m\u001b[43m)\u001b[49m \u001b[38;5;241m==\u001b[39m []\n",
      "Input \u001b[1;32mIn [19]\u001b[0m, in \u001b[0;36mKnights.possible_moves\u001b[1;34m(self)\u001b[0m\n\u001b[0;32m     29\u001b[0m \u001b[38;5;28;01mdef\u001b[39;00m \u001b[38;5;21mpossible_moves\u001b[39m(\u001b[38;5;28mself\u001b[39m):\n\u001b[1;32m---> 30\u001b[0m     endings \u001b[38;5;241m=\u001b[39m [\u001b[38;5;28mself\u001b[39m\u001b[38;5;241m.\u001b[39mplayer\u001b[38;5;241m.\u001b[39mpos \u001b[38;5;241m+\u001b[39m d \u001b[38;5;28;01mfor\u001b[39;00m d \u001b[38;5;129;01min\u001b[39;00m DIRECTIONS]\n\u001b[0;32m     31\u001b[0m     \u001b[38;5;28;01mreturn\u001b[39;00m [pos2string(e) \u001b[38;5;28;01mfor\u001b[39;00m e \u001b[38;5;129;01min\u001b[39;00m endings \u001b[38;5;66;03m# all positions\u001b[39;00m\n\u001b[0;32m     32\u001b[0m             \u001b[38;5;28;01mif\u001b[39;00m (e[\u001b[38;5;241m0\u001b[39m] \u001b[38;5;241m>\u001b[39m\u001b[38;5;241m=\u001b[39m \u001b[38;5;241m0\u001b[39m) \u001b[38;5;129;01mand\u001b[39;00m (e[\u001b[38;5;241m1\u001b[39m] \u001b[38;5;241m>\u001b[39m\u001b[38;5;241m=\u001b[39m \u001b[38;5;241m0\u001b[39m) \u001b[38;5;129;01mand\u001b[39;00m\n\u001b[0;32m     33\u001b[0m                (e[\u001b[38;5;241m0\u001b[39m] \u001b[38;5;241m<\u001b[39m \u001b[38;5;28mself\u001b[39m\u001b[38;5;241m.\u001b[39mboard_size[\u001b[38;5;241m0\u001b[39m]) \u001b[38;5;129;01mand\u001b[39;00m\n\u001b[0;32m     34\u001b[0m                (e[\u001b[38;5;241m1\u001b[39m] \u001b[38;5;241m<\u001b[39m \u001b[38;5;28mself\u001b[39m\u001b[38;5;241m.\u001b[39mboard_size[\u001b[38;5;241m1\u001b[39m]) \u001b[38;5;129;01mand\u001b[39;00m \u001b[38;5;66;03m# inside the board\u001b[39;00m\n\u001b[0;32m     35\u001b[0m                \u001b[38;5;28mself\u001b[39m\u001b[38;5;241m.\u001b[39mboard[e[\u001b[38;5;241m0\u001b[39m], e[\u001b[38;5;241m1\u001b[39m]] \u001b[38;5;241m==\u001b[39m \u001b[38;5;241m0\u001b[39m]\n",
      "Input \u001b[1;32mIn [19]\u001b[0m, in \u001b[0;36m<listcomp>\u001b[1;34m(.0)\u001b[0m\n\u001b[0;32m     29\u001b[0m \u001b[38;5;28;01mdef\u001b[39;00m \u001b[38;5;21mpossible_moves\u001b[39m(\u001b[38;5;28mself\u001b[39m):\n\u001b[1;32m---> 30\u001b[0m     endings \u001b[38;5;241m=\u001b[39m [\u001b[38;5;28;43mself\u001b[39;49m\u001b[38;5;241;43m.\u001b[39;49m\u001b[43mplayer\u001b[49m\u001b[38;5;241m.\u001b[39mpos \u001b[38;5;241m+\u001b[39m d \u001b[38;5;28;01mfor\u001b[39;00m d \u001b[38;5;129;01min\u001b[39;00m DIRECTIONS]\n\u001b[0;32m     31\u001b[0m     \u001b[38;5;28;01mreturn\u001b[39;00m [pos2string(e) \u001b[38;5;28;01mfor\u001b[39;00m e \u001b[38;5;129;01min\u001b[39;00m endings \u001b[38;5;66;03m# all positions\u001b[39;00m\n\u001b[0;32m     32\u001b[0m             \u001b[38;5;28;01mif\u001b[39;00m (e[\u001b[38;5;241m0\u001b[39m] \u001b[38;5;241m>\u001b[39m\u001b[38;5;241m=\u001b[39m \u001b[38;5;241m0\u001b[39m) \u001b[38;5;129;01mand\u001b[39;00m (e[\u001b[38;5;241m1\u001b[39m] \u001b[38;5;241m>\u001b[39m\u001b[38;5;241m=\u001b[39m \u001b[38;5;241m0\u001b[39m) \u001b[38;5;129;01mand\u001b[39;00m\n\u001b[0;32m     33\u001b[0m                (e[\u001b[38;5;241m0\u001b[39m] \u001b[38;5;241m<\u001b[39m \u001b[38;5;28mself\u001b[39m\u001b[38;5;241m.\u001b[39mboard_size[\u001b[38;5;241m0\u001b[39m]) \u001b[38;5;129;01mand\u001b[39;00m\n\u001b[0;32m     34\u001b[0m                (e[\u001b[38;5;241m1\u001b[39m] \u001b[38;5;241m<\u001b[39m \u001b[38;5;28mself\u001b[39m\u001b[38;5;241m.\u001b[39mboard_size[\u001b[38;5;241m1\u001b[39m]) \u001b[38;5;129;01mand\u001b[39;00m \u001b[38;5;66;03m# inside the board\u001b[39;00m\n\u001b[0;32m     35\u001b[0m                \u001b[38;5;28mself\u001b[39m\u001b[38;5;241m.\u001b[39mboard[e[\u001b[38;5;241m0\u001b[39m], e[\u001b[38;5;241m1\u001b[39m]] \u001b[38;5;241m==\u001b[39m \u001b[38;5;241m0\u001b[39m]\n",
      "File \u001b[1;32m~\\anaconda3\\lib\\site-packages\\easyAI\\TwoPlayerGame.py:133\u001b[0m, in \u001b[0;36mTwoPlayerGame.player\u001b[1;34m(self)\u001b[0m\n\u001b[0;32m    131\u001b[0m \u001b[38;5;129m@property\u001b[39m\n\u001b[0;32m    132\u001b[0m \u001b[38;5;28;01mdef\u001b[39;00m \u001b[38;5;21mplayer\u001b[39m(\u001b[38;5;28mself\u001b[39m):\n\u001b[1;32m--> 133\u001b[0m     \u001b[38;5;28;01mreturn\u001b[39;00m \u001b[38;5;28mself\u001b[39m\u001b[38;5;241m.\u001b[39mplayers[\u001b[38;5;28;43mself\u001b[39;49m\u001b[38;5;241;43m.\u001b[39;49m\u001b[43mcurrent_player\u001b[49m \u001b[38;5;241m-\u001b[39m \u001b[38;5;241m1\u001b[39m]\n",
      "\u001b[1;31mAttributeError\u001b[0m: 'Knights' object has no attribute 'current_player'"
     ]
    }
   ],
   "source": [
    "ai_algo = Negamax(11)\n",
    "game = Knights([AI_Player(ai_algo), AI_Player(ai_algo)], (5, 5))\n",
    "game.play()\n",
    "print(\"player %d loses\" % (game.nplayer))"
   ]
  },
  {
   "cell_type": "code",
   "execution_count": null,
   "metadata": {},
   "outputs": [],
   "source": []
  },
  {
   "cell_type": "code",
   "execution_count": 21,
   "metadata": {},
   "outputs": [
    {
     "ename": "AttributeError",
     "evalue": "'Knights' object has no attribute 'current_player'",
     "output_type": "error",
     "traceback": [
      "\u001b[1;31m---------------------------------------------------------------------------\u001b[0m",
      "\u001b[1;31mAttributeError\u001b[0m                            Traceback (most recent call last)",
      "Input \u001b[1;32mIn [21]\u001b[0m, in \u001b[0;36m<cell line: 4>\u001b[1;34m()\u001b[0m\n\u001b[0;32m      2\u001b[0m ai_algo \u001b[38;5;241m=\u001b[39m Negamax(\u001b[38;5;241m11\u001b[39m)\n\u001b[0;32m      3\u001b[0m game \u001b[38;5;241m=\u001b[39m Knights([AI_Player(ai_algo), AI_Player(ai_algo)], (\u001b[38;5;241m5\u001b[39m, \u001b[38;5;241m5\u001b[39m))\n\u001b[1;32m----> 4\u001b[0m \u001b[43mgame\u001b[49m\u001b[38;5;241;43m.\u001b[39;49m\u001b[43mplay\u001b[49m\u001b[43m(\u001b[49m\u001b[43m)\u001b[49m\n\u001b[0;32m      5\u001b[0m \u001b[38;5;28mprint\u001b[39m(\u001b[38;5;124m\"\u001b[39m\u001b[38;5;124mplayer \u001b[39m\u001b[38;5;132;01m%d\u001b[39;00m\u001b[38;5;124m loses\u001b[39m\u001b[38;5;124m\"\u001b[39m \u001b[38;5;241m%\u001b[39m (game\u001b[38;5;241m.\u001b[39mnplayer))\n",
      "Input \u001b[1;32mIn [19]\u001b[0m, in \u001b[0;36mKnights.play\u001b[1;34m(self)\u001b[0m\n\u001b[0;32m     72\u001b[0m \u001b[38;5;28;01mdef\u001b[39;00m \u001b[38;5;21mplay\u001b[39m(\u001b[38;5;28mself\u001b[39m):\n\u001b[1;32m---> 73\u001b[0m     \u001b[38;5;28;01mwhile\u001b[39;00m \u001b[38;5;129;01mnot\u001b[39;00m \u001b[38;5;28;43mself\u001b[39;49m\u001b[38;5;241;43m.\u001b[39;49m\u001b[43mis_over\u001b[49m\u001b[43m(\u001b[49m\u001b[43m)\u001b[49m:\n\u001b[0;32m     74\u001b[0m         \u001b[38;5;28mself\u001b[39m\u001b[38;5;241m.\u001b[39mshow()\n\u001b[0;32m     75\u001b[0m         move \u001b[38;5;241m=\u001b[39m \u001b[38;5;28mself\u001b[39m\u001b[38;5;241m.\u001b[39mplayers[\u001b[38;5;28mself\u001b[39m\u001b[38;5;241m.\u001b[39mnplayer \u001b[38;5;241m-\u001b[39m \u001b[38;5;241m1\u001b[39m]\u001b[38;5;241m.\u001b[39mask_move()\n",
      "Input \u001b[1;32mIn [19]\u001b[0m, in \u001b[0;36mKnights.is_over\u001b[1;34m(self)\u001b[0m\n\u001b[0;32m     70\u001b[0m \u001b[38;5;28;01mdef\u001b[39;00m \u001b[38;5;21mis_over\u001b[39m(\u001b[38;5;28mself\u001b[39m):\n\u001b[1;32m---> 71\u001b[0m     \u001b[38;5;28;01mreturn\u001b[39;00m \u001b[38;5;28;43mself\u001b[39;49m\u001b[38;5;241;43m.\u001b[39;49m\u001b[43mlose\u001b[49m\u001b[43m(\u001b[49m\u001b[43m)\u001b[49m\n",
      "Input \u001b[1;32mIn [19]\u001b[0m, in \u001b[0;36mKnights.lose\u001b[1;34m(self)\u001b[0m\n\u001b[0;32m     64\u001b[0m \u001b[38;5;28;01mdef\u001b[39;00m \u001b[38;5;21mlose\u001b[39m(\u001b[38;5;28mself\u001b[39m):\n\u001b[1;32m---> 65\u001b[0m     \u001b[38;5;28;01mreturn\u001b[39;00m \u001b[38;5;28;43mself\u001b[39;49m\u001b[38;5;241;43m.\u001b[39;49m\u001b[43mpossible_moves\u001b[49m\u001b[43m(\u001b[49m\u001b[43m)\u001b[49m \u001b[38;5;241m==\u001b[39m []\n",
      "Input \u001b[1;32mIn [19]\u001b[0m, in \u001b[0;36mKnights.possible_moves\u001b[1;34m(self)\u001b[0m\n\u001b[0;32m     29\u001b[0m \u001b[38;5;28;01mdef\u001b[39;00m \u001b[38;5;21mpossible_moves\u001b[39m(\u001b[38;5;28mself\u001b[39m):\n\u001b[1;32m---> 30\u001b[0m     endings \u001b[38;5;241m=\u001b[39m [\u001b[38;5;28mself\u001b[39m\u001b[38;5;241m.\u001b[39mplayer\u001b[38;5;241m.\u001b[39mpos \u001b[38;5;241m+\u001b[39m d \u001b[38;5;28;01mfor\u001b[39;00m d \u001b[38;5;129;01min\u001b[39;00m DIRECTIONS]\n\u001b[0;32m     31\u001b[0m     \u001b[38;5;28;01mreturn\u001b[39;00m [pos2string(e) \u001b[38;5;28;01mfor\u001b[39;00m e \u001b[38;5;129;01min\u001b[39;00m endings \u001b[38;5;66;03m# all positions\u001b[39;00m\n\u001b[0;32m     32\u001b[0m             \u001b[38;5;28;01mif\u001b[39;00m (e[\u001b[38;5;241m0\u001b[39m] \u001b[38;5;241m>\u001b[39m\u001b[38;5;241m=\u001b[39m \u001b[38;5;241m0\u001b[39m) \u001b[38;5;129;01mand\u001b[39;00m (e[\u001b[38;5;241m1\u001b[39m] \u001b[38;5;241m>\u001b[39m\u001b[38;5;241m=\u001b[39m \u001b[38;5;241m0\u001b[39m) \u001b[38;5;129;01mand\u001b[39;00m\n\u001b[0;32m     33\u001b[0m                (e[\u001b[38;5;241m0\u001b[39m] \u001b[38;5;241m<\u001b[39m \u001b[38;5;28mself\u001b[39m\u001b[38;5;241m.\u001b[39mboard_size[\u001b[38;5;241m0\u001b[39m]) \u001b[38;5;129;01mand\u001b[39;00m\n\u001b[0;32m     34\u001b[0m                (e[\u001b[38;5;241m1\u001b[39m] \u001b[38;5;241m<\u001b[39m \u001b[38;5;28mself\u001b[39m\u001b[38;5;241m.\u001b[39mboard_size[\u001b[38;5;241m1\u001b[39m]) \u001b[38;5;129;01mand\u001b[39;00m \u001b[38;5;66;03m# inside the board\u001b[39;00m\n\u001b[0;32m     35\u001b[0m                \u001b[38;5;28mself\u001b[39m\u001b[38;5;241m.\u001b[39mboard[e[\u001b[38;5;241m0\u001b[39m], e[\u001b[38;5;241m1\u001b[39m]] \u001b[38;5;241m==\u001b[39m \u001b[38;5;241m0\u001b[39m]\n",
      "Input \u001b[1;32mIn [19]\u001b[0m, in \u001b[0;36m<listcomp>\u001b[1;34m(.0)\u001b[0m\n\u001b[0;32m     29\u001b[0m \u001b[38;5;28;01mdef\u001b[39;00m \u001b[38;5;21mpossible_moves\u001b[39m(\u001b[38;5;28mself\u001b[39m):\n\u001b[1;32m---> 30\u001b[0m     endings \u001b[38;5;241m=\u001b[39m [\u001b[38;5;28;43mself\u001b[39;49m\u001b[38;5;241;43m.\u001b[39;49m\u001b[43mplayer\u001b[49m\u001b[38;5;241m.\u001b[39mpos \u001b[38;5;241m+\u001b[39m d \u001b[38;5;28;01mfor\u001b[39;00m d \u001b[38;5;129;01min\u001b[39;00m DIRECTIONS]\n\u001b[0;32m     31\u001b[0m     \u001b[38;5;28;01mreturn\u001b[39;00m [pos2string(e) \u001b[38;5;28;01mfor\u001b[39;00m e \u001b[38;5;129;01min\u001b[39;00m endings \u001b[38;5;66;03m# all positions\u001b[39;00m\n\u001b[0;32m     32\u001b[0m             \u001b[38;5;28;01mif\u001b[39;00m (e[\u001b[38;5;241m0\u001b[39m] \u001b[38;5;241m>\u001b[39m\u001b[38;5;241m=\u001b[39m \u001b[38;5;241m0\u001b[39m) \u001b[38;5;129;01mand\u001b[39;00m (e[\u001b[38;5;241m1\u001b[39m] \u001b[38;5;241m>\u001b[39m\u001b[38;5;241m=\u001b[39m \u001b[38;5;241m0\u001b[39m) \u001b[38;5;129;01mand\u001b[39;00m\n\u001b[0;32m     33\u001b[0m                (e[\u001b[38;5;241m0\u001b[39m] \u001b[38;5;241m<\u001b[39m \u001b[38;5;28mself\u001b[39m\u001b[38;5;241m.\u001b[39mboard_size[\u001b[38;5;241m0\u001b[39m]) \u001b[38;5;129;01mand\u001b[39;00m\n\u001b[0;32m     34\u001b[0m                (e[\u001b[38;5;241m1\u001b[39m] \u001b[38;5;241m<\u001b[39m \u001b[38;5;28mself\u001b[39m\u001b[38;5;241m.\u001b[39mboard_size[\u001b[38;5;241m1\u001b[39m]) \u001b[38;5;129;01mand\u001b[39;00m \u001b[38;5;66;03m# inside the board\u001b[39;00m\n\u001b[0;32m     35\u001b[0m                \u001b[38;5;28mself\u001b[39m\u001b[38;5;241m.\u001b[39mboard[e[\u001b[38;5;241m0\u001b[39m], e[\u001b[38;5;241m1\u001b[39m]] \u001b[38;5;241m==\u001b[39m \u001b[38;5;241m0\u001b[39m]\n",
      "File \u001b[1;32m~\\anaconda3\\lib\\site-packages\\easyAI\\TwoPlayerGame.py:133\u001b[0m, in \u001b[0;36mTwoPlayerGame.player\u001b[1;34m(self)\u001b[0m\n\u001b[0;32m    131\u001b[0m \u001b[38;5;129m@property\u001b[39m\n\u001b[0;32m    132\u001b[0m \u001b[38;5;28;01mdef\u001b[39;00m \u001b[38;5;21mplayer\u001b[39m(\u001b[38;5;28mself\u001b[39m):\n\u001b[1;32m--> 133\u001b[0m     \u001b[38;5;28;01mreturn\u001b[39;00m \u001b[38;5;28mself\u001b[39m\u001b[38;5;241m.\u001b[39mplayers[\u001b[38;5;28;43mself\u001b[39;49m\u001b[38;5;241;43m.\u001b[39;49m\u001b[43mcurrent_player\u001b[49m \u001b[38;5;241m-\u001b[39m \u001b[38;5;241m1\u001b[39m]\n",
      "\u001b[1;31mAttributeError\u001b[0m: 'Knights' object has no attribute 'current_player'"
     ]
    }
   ],
   "source": [
    "from easyAI import AI_Player, Negamax\n",
    "ai_algo = Negamax(11)\n",
    "game = Knights([AI_Player(ai_algo), AI_Player(ai_algo)], (5, 5))\n",
    "game.play()\n",
    "print(\"player %d loses\" % (game.nplayer))"
   ]
  },
  {
   "cell_type": "code",
   "execution_count": null,
   "metadata": {},
   "outputs": [],
   "source": []
  }
 ],
 "metadata": {
  "accelerator": "GPU",
  "colab": {
   "gpuType": "T4",
   "provenance": []
  },
  "kernelspec": {
   "display_name": "Python 3 (ipykernel)",
   "language": "python",
   "name": "python3"
  },
  "language_info": {
   "codemirror_mode": {
    "name": "ipython",
    "version": 3
   },
   "file_extension": ".py",
   "mimetype": "text/x-python",
   "name": "python",
   "nbconvert_exporter": "python",
   "pygments_lexer": "ipython3",
   "version": "3.9.12"
  }
 },
 "nbformat": 4,
 "nbformat_minor": 1
}
